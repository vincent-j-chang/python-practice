{
 "cells": [
  {
   "cell_type": "code",
   "execution_count": 1,
   "id": "1c743812",
   "metadata": {},
   "outputs": [],
   "source": [
    "import pandas as pd"
   ]
  },
  {
   "cell_type": "code",
   "execution_count": 10,
   "id": "1e8bf87a",
   "metadata": {},
   "outputs": [
    {
     "name": "stdout",
     "output_type": "stream",
     "text": [
      "the result is 200\n"
     ]
    }
   ],
   "source": [
    "# Given two integer numbers return their product only if the product is equal to or lower than 1000, \n",
    "# else return their sum.\n",
    "\n",
    "number1 = 10\n",
    "number2 = 20\n",
    "\n",
    "if number1 * number2 <= 1000:\n",
    "    print(\"the result is\", (number1 * number2))\n",
    "else:\n",
    "    print(\"the result is\", (number1 + number2))"
   ]
  },
  {
   "cell_type": "code",
   "execution_count": 12,
   "id": "fea29a5d",
   "metadata": {},
   "outputs": [
    {
     "name": "stdout",
     "output_type": "stream",
     "text": [
      "The result is 600\n",
      "The result is 70\n"
     ]
    }
   ],
   "source": [
    "def multiplication_or_sum(num1, num2):\n",
    "    # calculate the product of 2 numbers\n",
    "    product = num1 * num2\n",
    "    if product <= 1000:\n",
    "        return product\n",
    "    else:\n",
    "#         product is greater than 1000 than calc sum\n",
    "        return num1+num2\n",
    "\n",
    "#first condition\n",
    "result = multiplication_or_sum(20, 30)\n",
    "print(\"The result is\", result)\n",
    "\n",
    "result = multiplication_or_sum(30,40)\n",
    "print(\"The result is\", result)"
   ]
  },
  {
   "cell_type": "code",
   "execution_count": 41,
   "id": "07038134",
   "metadata": {},
   "outputs": [
    {
     "name": "stdout",
     "output_type": "stream",
     "text": [
      "Printing current and previous number and their sum in a range(10)\n",
      "Current Number 0 Previous Number  0  Sum:  0\n",
      "Current Number 1 Previous Number  0  Sum:  1\n",
      "Current Number 2 Previous Number  1  Sum:  3\n",
      "Current Number 3 Previous Number  2  Sum:  5\n",
      "Current Number 4 Previous Number  3  Sum:  7\n",
      "Current Number 5 Previous Number  4  Sum:  9\n",
      "Current Number 6 Previous Number  5  Sum:  11\n",
      "Current Number 7 Previous Number  6  Sum:  13\n",
      "Current Number 8 Previous Number  7  Sum:  15\n",
      "Current Number 9 Previous Number  8  Sum:  17\n"
     ]
    }
   ],
   "source": [
    "# Write a program to iterate the first 10 numbers and in each iteration, \n",
    "# print the sum of the current and previous number.\n",
    "\n",
    "print(\"Printing current and previous number and their sum in a range(10)\")\n",
    "previous_num = 0\n",
    "\n",
    "# loop from 1 to 10\n",
    "# NOTE: previous num = 0 through first loop, then it loops at i for the remaining.\n",
    "for i in range(10):\n",
    "    x_sum = previous_num + i\n",
    "    print(\"Current Number\", i, \"Previous Number \", previous_num, \" Sum: \", x_sum)\n",
    "    # modify previous number\n",
    "    # set it to the current number\n",
    "    previous_num = i"
   ]
  },
  {
   "cell_type": "code",
   "execution_count": 54,
   "id": "f19f82b9",
   "metadata": {},
   "outputs": [
    {
     "name": "stdout",
     "output_type": "stream",
     "text": [
      "Original String is pynative\n",
      "Printing only even index chars\n",
      "p\n",
      "n\n",
      "t\n",
      "v\n"
     ]
    }
   ],
   "source": [
    "# Write a program to accept a string from the user and display characters that are present at an even index number.\n",
    "\n",
    "# For example, str = \"pynative\" so you should display ‘p’, ‘n’, ‘t’, ‘v’.\n",
    "\n",
    "test = \"pynative\"\n",
    "test[::2]\n",
    "\n",
    "print(\"Original String is\", test)\n",
    "print(\"Printing only even index chars\")\n",
    "for i in test[::2]:\n",
    "    print(i)"
   ]
  },
  {
   "cell_type": "code",
   "execution_count": 59,
   "id": "bffdf042",
   "metadata": {},
   "outputs": [
    {
     "name": "stdout",
     "output_type": "stream",
     "text": [
      "tive\n",
      "native\n"
     ]
    }
   ],
   "source": [
    "print(test[4:])\n",
    "print(test[2:])"
   ]
  },
  {
   "cell_type": "code",
   "execution_count": 63,
   "id": "ee3ff29c",
   "metadata": {},
   "outputs": [
    {
     "name": "stdout",
     "output_type": "stream",
     "text": [
      "Removing Characters from a String\n",
      "Original String: pynative\n",
      "tive\n",
      "Original String: pynative\n",
      "native\n"
     ]
    }
   ],
   "source": [
    "def remove_chars(word, n):\n",
    "    print('Original String:', word)\n",
    "    x = word[n:]\n",
    "    return x\n",
    "\n",
    "print(\"Removing Characters from a String\")\n",
    "print(remove_chars(\"pynative\", 4))\n",
    "print(remove_chars(\"pynative\", 2))"
   ]
  },
  {
   "cell_type": "code",
   "execution_count": 95,
   "id": "dc0b12fc",
   "metadata": {},
   "outputs": [
    {
     "name": "stdout",
     "output_type": "stream",
     "text": [
      "True\n"
     ]
    }
   ],
   "source": [
    "# Write a function to return True if the first and last number of a given list is same. \n",
    "# If numbers are different then return False.\n",
    "\n",
    "numbers_x = [10, 20, 30, 40, 10]\n",
    "# numbers_x[0::-1]\n",
    "# numbers_x[0:1]\n",
    "if numbers_x[0] == numbers_x[::-1][0]:\n",
    "    print(True)\n",
    "else: print(False)"
   ]
  },
  {
   "cell_type": "code",
   "execution_count": 102,
   "id": "3feb2764",
   "metadata": {},
   "outputs": [
    {
     "name": "stdout",
     "output_type": "stream",
     "text": [
      "The Result is True\n"
     ]
    }
   ],
   "source": [
    "\n",
    "def numbers(numbers_list):\n",
    "    first = numbers_list[0]\n",
    "    last = numbers_list[::-1][0]\n",
    "    if first == last:\n",
    "        return True\n",
    "    else: return False\n",
    "\n",
    "\n",
    "numbers_x = [10, 20, 30, 40, 10]\n",
    "print(\"The Result is\", numbers(numbers_x))"
   ]
  },
  {
   "cell_type": "code",
   "execution_count": 92,
   "id": "4ac33601",
   "metadata": {},
   "outputs": [
    {
     "data": {
      "text/plain": [
       "10"
      ]
     },
     "execution_count": 92,
     "metadata": {},
     "output_type": "execute_result"
    }
   ],
   "source": []
  },
  {
   "cell_type": "code",
   "execution_count": null,
   "id": "ce3ba626",
   "metadata": {},
   "outputs": [],
   "source": []
  }
 ],
 "metadata": {
  "kernelspec": {
   "display_name": "Python 3 (ipykernel)",
   "language": "python",
   "name": "python3"
  },
  "language_info": {
   "codemirror_mode": {
    "name": "ipython",
    "version": 3
   },
   "file_extension": ".py",
   "mimetype": "text/x-python",
   "name": "python",
   "nbconvert_exporter": "python",
   "pygments_lexer": "ipython3",
   "version": "3.9.7"
  }
 },
 "nbformat": 4,
 "nbformat_minor": 5
}
