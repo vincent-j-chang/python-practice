{
 "cells": [
  {
   "cell_type": "code",
   "execution_count": null,
   "id": "1c743812",
   "metadata": {},
   "outputs": [],
   "source": [
    "import pandas as pd"
   ]
  },
  {
   "cell_type": "code",
   "execution_count": null,
   "id": "1e8bf87a",
   "metadata": {},
   "outputs": [],
   "source": [
    "# Given two integer numbers return their product only if the product is equal to or lower than 1000, \n",
    "# else return their sum.\n",
    "\n",
    "number1 = 10\n",
    "number2 = 20\n",
    "\n",
    "if number1 * number2 <= 1000:\n",
    "    print(\"the result is\", (number1 * number2))\n",
    "else:\n",
    "    print(\"the result is\", (number1 + number2))"
   ]
  },
  {
   "cell_type": "code",
   "execution_count": null,
   "id": "fea29a5d",
   "metadata": {},
   "outputs": [],
   "source": [
    "def multiplication_or_sum(num1, num2):\n",
    "    # calculate the product of 2 numbers\n",
    "    product = num1 * num2\n",
    "    if product <= 1000:\n",
    "        return product\n",
    "    else:\n",
    "#         product is greater than 1000 than calc sum\n",
    "        return num1+num2\n",
    "\n",
    "#first condition\n",
    "result = multiplication_or_sum(20, 30)\n",
    "print(\"The result is\", result)\n",
    "\n",
    "result = multiplication_or_sum(30,40)\n",
    "print(\"The result is\", result)"
   ]
  },
  {
   "cell_type": "code",
   "execution_count": 1,
   "id": "07038134",
   "metadata": {},
   "outputs": [
    {
     "name": "stdout",
     "output_type": "stream",
     "text": [
      "Printing current and previous number and their sum in a range(10)\n",
      "Current Number 0 Previous Number  0  Sum:  0\n",
      "Current Number 1 Previous Number  0  Sum:  1\n",
      "Current Number 2 Previous Number  1  Sum:  3\n",
      "Current Number 3 Previous Number  2  Sum:  5\n",
      "Current Number 4 Previous Number  3  Sum:  7\n",
      "Current Number 5 Previous Number  4  Sum:  9\n",
      "Current Number 6 Previous Number  5  Sum:  11\n",
      "Current Number 7 Previous Number  6  Sum:  13\n",
      "Current Number 8 Previous Number  7  Sum:  15\n",
      "Current Number 9 Previous Number  8  Sum:  17\n"
     ]
    }
   ],
   "source": [
    "# Write a program to iterate the first 10 numbers and in each iteration, \n",
    "# print the sum of the current and previous number.\n",
    "\n",
    "print(\"Printing current and previous number and their sum in a range(10)\")\n",
    "previous_num = 0\n",
    "\n",
    "# loop from 1 to 10\n",
    "# NOTE: previous num = 0 through first loop, then it loops at i for the remaining.\n",
    "for i in range(10):\n",
    "    x_sum = previous_num + i\n",
    "    print(\"Current Number\", i, \"Previous Number \", previous_num, \" Sum: \", x_sum)\n",
    "    # modify previous number\n",
    "    # set it to the current number\n",
    "    previous_num = i"
   ]
  },
  {
   "cell_type": "code",
   "execution_count": null,
   "id": "f19f82b9",
   "metadata": {},
   "outputs": [],
   "source": [
    "# Write a program to accept a string from the user and display characters that are present at an even index number.\n",
    "\n",
    "# For example, str = \"pynative\" so you should display ‘p’, ‘n’, ‘t’, ‘v’.\n",
    "\n",
    "test = \"pynative\"\n",
    "test[::2]\n",
    "\n",
    "print(\"Original String is\", test)\n",
    "print(\"Printing only even index chars\")\n",
    "for i in test[::2]:\n",
    "    print(i)"
   ]
  },
  {
   "cell_type": "code",
   "execution_count": null,
   "id": "bffdf042",
   "metadata": {},
   "outputs": [],
   "source": [
    "print(test[4:])\n",
    "print(test[2:])"
   ]
  },
  {
   "cell_type": "code",
   "execution_count": null,
   "id": "ee3ff29c",
   "metadata": {},
   "outputs": [],
   "source": [
    "def remove_chars(word, n):\n",
    "    print('Original String:', word)\n",
    "    x = word[n:]\n",
    "    return x\n",
    "\n",
    "print(\"Removing Characters from a String\")\n",
    "print(remove_chars(\"pynative\", 4))\n",
    "print(remove_chars(\"pynative\", 2))"
   ]
  },
  {
   "cell_type": "code",
   "execution_count": null,
   "id": "dc0b12fc",
   "metadata": {},
   "outputs": [],
   "source": [
    "# Write a function to return True if the first and last number of a given list is same. \n",
    "# If numbers are different then return False.\n",
    "\n",
    "numbers_x = [10, 20, 30, 40, 10]\n",
    "# numbers_x[0::-1]\n",
    "# numbers_x[0:1]\n",
    "if numbers_x[0] == numbers_x[::-1][0]:\n",
    "    print(True)\n",
    "else: print(False)"
   ]
  },
  {
   "cell_type": "code",
   "execution_count": null,
   "id": "3feb2764",
   "metadata": {},
   "outputs": [],
   "source": [
    "\n",
    "def numbers(numbers_list):\n",
    "    first = numbers_list[0]\n",
    "    last = numbers_list[::-1][0]\n",
    "    if first == last:\n",
    "        return True\n",
    "    else: return False\n",
    "\n",
    "\n",
    "numbers_x = [10, 20, 30, 40, 10]\n",
    "print(\"The Result is\", numbers(numbers_x))"
   ]
  },
  {
   "cell_type": "code",
   "execution_count": null,
   "id": "4a99316c",
   "metadata": {},
   "outputs": [],
   "source": [
    "#6\n",
    "def remainder(given_list):\n",
    "    for x in given_list:\n",
    "        if x % 5 == 0:\n",
    "            print(x)\n",
    "            \n",
    "given_list = [10,20,33,46,55]\n",
    "print(\"Given list is\", given_list)\n",
    "print(\"Divisible by 5\")\n",
    "print(remainder(given_list))"
   ]
  },
  {
   "cell_type": "code",
   "execution_count": null,
   "id": "024b035b",
   "metadata": {},
   "outputs": [],
   "source": [
    "#6\n",
    "given_list = [10,20,33,46,55]\n",
    "print(\"Given list is\", given_list)\n",
    "print(\"Divisible by 5\")\n",
    "for x in given_list:\n",
    "    if x % 5 == 0:\n",
    "        print(x)"
   ]
  },
  {
   "cell_type": "code",
   "execution_count": null,
   "id": "7d38052b",
   "metadata": {},
   "outputs": [],
   "source": [
    "#7.\n",
    "str_x = \"Emma is good developer. Emma is a writer\"\n",
    "\n",
    "count = str_x.count(\"Emma\")\n",
    "print(\"Emma appears\", count, \"times.\")"
   ]
  },
  {
   "cell_type": "code",
   "execution_count": 5,
   "id": "84495d7a",
   "metadata": {},
   "outputs": [
    {
     "name": "stdout",
     "output_type": "stream",
     "text": [
      "\n",
      "\n",
      "1 \n",
      "\n",
      "2 2 \n",
      "\n",
      "3 3 3 \n",
      "\n",
      "4 4 4 4 \n",
      "\n",
      "5 5 5 5 5 \n",
      "\n"
     ]
    }
   ],
   "source": [
    "#8.\n",
    "# Rows are iterated using outer loop\n",
    "# Colums are iterated using inner loop\n",
    "\n",
    "rows = 5\n",
    "for i in range(rows+1):\n",
    "    for j in range(i):\n",
    "        print(i, end=' ')\n",
    "    print('\\n')"
   ]
  },
  {
   "cell_type": "code",
   "execution_count": null,
   "id": "19367053",
   "metadata": {},
   "outputs": [],
   "source": [
    "#Exercise 9: Check Palindrome Number\n",
    "\n",
    "# original_number = '121'\n",
    "\n",
    "\n",
    "def palindrome(original_number):\n",
    "    str_original = str(original_number)\n",
    "    reverse_number = str_original[::-1]\n",
    "    if reverse_number == str_original:\n",
    "        print(\"Yes, original number is palindrom number\")\n",
    "    else:\n",
    "        print(\"No, original number is not a palindrome number\")\n",
    "        \n",
    "palindrome(121)\n",
    "palindrome(125)"
   ]
  },
  {
   "cell_type": "code",
   "execution_count": null,
   "id": "e60de625",
   "metadata": {},
   "outputs": [],
   "source": [
    "# Exercise 10: Create a new list from a two list using the following condition\n",
    "# Given a two list of numbers, write a program to create a new list such that the new list should contain \n",
    "# odd numbers from the first list and even numbers from the second list.\n",
    "\n",
    "list1 = [10, 20, 25, 30, 35]\n",
    "list2 = [40, 45, 60, 75, 90]\n",
    "\n",
    "\n",
    "\n",
    "def combine_lists(list_a, list_b):\n",
    "    new_list1 = []\n",
    "    for x,y in [(list_a, list_b)]:\n",
    "        for x in list_a:\n",
    "            if x % 2 > 0:\n",
    "                new_list1.append(x)\n",
    "        for y in list_b:\n",
    "            if y % 2 == 0:\n",
    "                new_list1.append(y)\n",
    "    print(\"result list:\", new_list1)\n",
    "\n",
    "combine_lists(list1, list2)"
   ]
  },
  {
   "cell_type": "code",
   "execution_count": 8,
   "id": "825b1742",
   "metadata": {},
   "outputs": [
    {
     "name": "stdout",
     "output_type": "stream",
     "text": [
      "6 3 5 7 "
     ]
    }
   ],
   "source": [
    "# Exercise 11: Write a Program to extract each digit from an integer in the reverse order.\n",
    "# For example, If the given int is 7536, the output shall be “6 3 5 7“, with a space separating the digits.\n",
    "\n",
    "alpha = 7536\n",
    "\n",
    "def reverse_output(alpha):\n",
    "    str_alpha = str(alpha)\n",
    "    inv_alpha = str_alpha[::-1]\n",
    "    for x in inv_alpha:\n",
    "        print(x, end = ' ')\n",
    "\n",
    "reverse_output(alpha)   "
   ]
  },
  {
   "cell_type": "code",
   "execution_count": 4,
   "id": "07f9bd6e",
   "metadata": {},
   "outputs": [
    {
     "name": "stdout",
     "output_type": "stream",
     "text": [
      "Total tax payable is 6000.0\n"
     ]
    }
   ],
   "source": [
    "# Exercise 12: Calculate income tax for the given income by adhering to the below rules\n",
    "\n",
    "# Taxable Income\tRate (in %)\n",
    "# First $10,000\t0\n",
    "# Next $10,000\t10\n",
    "# The remaining\t20\n",
    "\n",
    "# For example, suppose the taxable income is 45000 the income tax payable is\n",
    "\n",
    "income = 45000\n",
    "\n",
    "def net_tax(income):\n",
    "    if income > 20000:\n",
    "        tax_payable = ((income - 20000) * .2) + 1000\n",
    "    elif income > 10000 and income <= 20000:\n",
    "        tax_payable = (income - 10000) * .1\n",
    "    elif income <= 10000:\n",
    "        tax_payable = 0\n",
    "    print(\"Total tax payable is\", tax_payable)\n",
    "\n",
    "net_tax(income)\n",
    "        \n",
    "        "
   ]
  },
  {
   "cell_type": "code",
   "execution_count": 34,
   "id": "682906ff",
   "metadata": {},
   "outputs": [
    {
     "name": "stdout",
     "output_type": "stream",
     "text": [
      "1 2 3 4 5 6 7 8 9 10 \t\t\n",
      "2 4 6 8 10 12 14 16 18 20 \t\t\n",
      "3 6 9 12 15 18 21 24 27 30 \t\t\n",
      "4 8 12 16 20 24 28 32 36 40 \t\t\n",
      "5 10 15 20 25 30 35 40 45 50 \t\t\n",
      "6 12 18 24 30 36 42 48 54 60 \t\t\n",
      "7 14 21 28 35 42 49 56 63 70 \t\t\n",
      "8 16 24 32 40 48 56 64 72 80 \t\t\n",
      "9 18 27 36 45 54 63 72 81 90 \t\t\n",
      "10 20 30 40 50 60 70 80 90 100 \t\t\n"
     ]
    }
   ],
   "source": [
    "# Exercise 13: Print multiplication table form 1 to 10\n",
    "# Expected Output\n",
    "# 1  2 3 4 5 6 7 8 9 10 \t\t\n",
    "# 2  4 6 8 10 12 14 16 18 20 \t\t\n",
    "# 3  6 9 12 15 18 21 24 27 30 \t\t\n",
    "# 4  8 12 16 20 24 28 32 36 40 \t\t\n",
    "# 5  10 15 20 25 30 35 40 45 50 \t\n",
    "\n",
    "rows = 10\n",
    "\n",
    "# loop through # of rows that you want, starts at 1 vs 0\n",
    "for i in range (1, rows+1):\n",
    "    # loop through the number of columns\n",
    "    for j in range(1, rows+1):\n",
    "        # multiplies 'i' and 'j'\n",
    "        print(i*j, end=' ')\n",
    "    # breaks each row\n",
    "    print('')\n",
    "#     print(\"\\t\\t\")\n",
    "\n",
    "    \n",
    "        \n",
    "    "
   ]
  },
  {
   "cell_type": "code",
   "execution_count": 47,
   "id": "5cf9852a",
   "metadata": {},
   "outputs": [
    {
     "name": "stdout",
     "output_type": "stream",
     "text": [
      "\n",
      "*\n",
      "**\n",
      "***\n",
      "****\n"
     ]
    }
   ],
   "source": [
    "# Exercise 14: Print downward Half-Pyramid Pattern with Star (asterisk)\n",
    "# * * * * *  \n",
    "# * * * *  \n",
    "# * * *  \n",
    "# * *  \n",
    "# *\n",
    "\n",
    "rows = 5\n",
    "for i in range(1, rows+1):\n",
    "    for j in range(i-1):\n",
    "        print('*', end='')\n",
    "    print('')"
   ]
  },
  {
   "cell_type": "code",
   "execution_count": null,
   "id": "4a482e38",
   "metadata": {},
   "outputs": [],
   "source": []
  }
 ],
 "metadata": {
  "kernelspec": {
   "display_name": "Python 3 (ipykernel)",
   "language": "python",
   "name": "python3"
  },
  "language_info": {
   "codemirror_mode": {
    "name": "ipython",
    "version": 3
   },
   "file_extension": ".py",
   "mimetype": "text/x-python",
   "name": "python",
   "nbconvert_exporter": "python",
   "pygments_lexer": "ipython3",
   "version": "3.9.7"
  }
 },
 "nbformat": 4,
 "nbformat_minor": 5
}
